{
 "cells": [
  {
   "cell_type": "markdown",
   "metadata": {},
   "source": [
    "# Ex5"
   ]
  },
  {
   "cell_type": "code",
   "execution_count": 69,
   "metadata": {},
   "outputs": [],
   "source": [
    "%matplotlib inline"
   ]
  },
  {
   "cell_type": "code",
   "execution_count": 70,
   "metadata": {},
   "outputs": [],
   "source": [
    "import numpy as np\n",
    "import matplotlib.pyplot as plt\n",
    "import scipy.io as sio\n",
    "from scipy.optimize import minimize"
   ]
  },
  {
   "cell_type": "markdown",
   "metadata": {},
   "source": [
    "## Part 1: Loading and Visualizing Data"
   ]
  },
  {
   "cell_type": "markdown",
   "metadata": {},
   "source": [
    "Loading and Visualizing Data ..."
   ]
  },
  {
   "cell_type": "code",
   "execution_count": 71,
   "metadata": {},
   "outputs": [],
   "source": [
    "data = sio.loadmat('ex5data1.mat',squeeze_me=True)\n",
    "X = data['X']\n",
    "y = data['y']\n",
    "Xval = data['Xval']\n",
    "yval = data['yval']\n",
    "Xtest = data['Xtest']\n",
    "ytest = data['ytest']\n",
    "m = X.shape[0]\n",
    "X_in = np.column_stack((np.ones(m),X))\n",
    "X_in = np.vstack([np.ones(m), X]).T\n",
    "Xval_in = np.vstack([np.ones(Xval.shape[0]), Xval]).T\n"
   ]
  },
  {
   "cell_type": "code",
   "execution_count": 72,
   "metadata": {},
   "outputs": [
    {
     "data": {
      "image/png": "[encoded data removed]",
      "text/plain": [
       "<Figure size 432x288 with 1 Axes>"
      ]
     },
     "metadata": {
      "needs_background": "light"
     },
     "output_type": "display_data"
    }
   ],
   "source": [
    "plt.plot(X,y,'rx',markersize=10,linewidth=1.5)\n",
    "plt.xlabel('Change in water level (x)')\n",
    "plt.ylabel('Water flowing out of the dam (y)');"
   ]
  },
  {
   "cell_type": "markdown",
   "metadata": {},
   "source": [
    "## Part 2: Regularized Linear Regression Cost"
   ]
  },
  {
   "cell_type": "markdown",
   "metadata": {},
   "source": [
    "### Cost function\n",
    "$$\\large J(\\theta)=\\frac{1}{2m}\\left(\\sum_{i=1}^{m}\\left(h_\\theta(x^{i})-y^{(i)}\\right)^2\\right)+\\frac{\\lambda}{2m}\\left(\\sum_{j=1}^{n}\\theta_j^2\\right)$$\n",
    "### Partial derivative\n",
    "$$\\large \\frac{\\partial J(\\theta)}{\\partial \\theta_0}=\\frac{1}{m}\\sum_{i=1}^m\\left(h_\\theta(x^{(i)})-y^{(i)}\\right)x_j^{(i)}\\text{ for $j=0$}$$\n",
    "$$\\large \\frac{\\partial J(\\theta)}{\\partial \\theta_j}=\\left(\\frac{1}{m}\\sum_{i=1}^m\\left(h_\\theta(x^{(i)})-y^{(i)}\\right)x_j^{(i)}\\right)+\\frac{\\lambda}{m}\\theta_j\\text{ for $j>=1$}$$"
   ]
  },
  {
   "cell_type": "code",
   "execution_count": 73,
   "metadata": {},
   "outputs": [],
   "source": [
    "def linear_reg_cost_function(theta, X, y ,l):\n",
    "    err = X @ theta - y\n",
    "    J = ( err.T @ err + l * theta[1:].T @ theta[1:] )  / (2 * X.shape[0])\n",
    "    \n",
    "    grad = X.T @ err\n",
    "    grad[1:] += l * theta[1:]\n",
    "    grad /= X.shape[0]\n",
    "\n",
    "    return J, grad"
   ]
  },
  {
   "cell_type": "code",
   "execution_count": 74,
   "metadata": {},
   "outputs": [
    {
     "name": "stdout",
     "output_type": "stream",
     "text": [
      "Cost at theta = [1 ; 1]: 303.993192\n",
      "(this value should be about 303.993192)\n"
     ]
    }
   ],
   "source": [
    "theta = np.ones(2)\n",
    "J, grad = linear_reg_cost_function(theta, X_in, y,  1)\n",
    "print('Cost at theta = [1 ; 1]: %f\\n(this value should be about 303.993192)' % J)"
   ]
  },
  {
   "cell_type": "markdown",
   "metadata": {},
   "source": [
    "## Part 3: Regularized Linear Regression Gradient"
   ]
  },
  {
   "cell_type": "code",
   "execution_count": 75,
   "metadata": {},
   "outputs": [
    {
     "name": "stdout",
     "output_type": "stream",
     "text": [
      "Gradient at theta = [1 ; 1]:  [-15.303016; 598.250744] \n",
      "(this value should be about [-15.303016; 598.250744])\n"
     ]
    }
   ],
   "source": [
    "print('Gradient at theta = [1 ; 1]:  [%f; %f] \\n(this value should be about [-15.303016; 598.250744])' % (grad[0], grad[1]))"
   ]
  },
  {
   "cell_type": "markdown",
   "metadata": {},
   "source": [
    "## Part 4: Train Linear Regression"
   ]
  },
  {
   "cell_type": "code",
   "execution_count": 76,
   "metadata": {},
   "outputs": [],
   "source": [
    "def train_linear_reg(X, y , l):\n",
    "    initial_theta = np.zeros(X.shape[1])\n",
    "    s = minimize(linear_reg_cost_function,initial_theta,args=(X,y,l),jac=True,\n",
    "                 method='BFGS',options={'maxiter':200})\n",
    "    return s['x']"
   ]
  },
  {
   "cell_type": "code",
   "execution_count": 77,
   "metadata": {},
   "outputs": [
    {
     "data": {
      "image/png": "[encoded data removed]",
      "text/plain": [
       "<Figure size 432x288 with 1 Axes>"
      ]
     },
     "metadata": {
      "needs_background": "light"
     },
     "output_type": "display_data"
    }
   ],
   "source": [
    "l = 0\n",
    "theta = train_linear_reg(X_in, y, l)\n",
    "plt.plot(X,y,'rx',markersize=10,linewidth=1.5)\n",
    "plt.xlabel('Change in water level (x)')\n",
    "plt.ylabel('Water flowing out of the dam (y)')\n",
    "plt.plot(X, X_in @ theta, '--', linewidth=2);"
   ]
  },
  {
   "cell_type": "markdown",
   "metadata": {},
   "source": [
    "##  Part 5: Learning Curve for Linear Regression"
   ]
  },
  {
   "cell_type": "code",
   "execution_count": 78,
   "metadata": {},
   "outputs": [],
   "source": [
    "def learning_curve(X, y, Xval, yval, l):\n",
    "    error_train = []\n",
    "    error_val = []\n",
    "    for i in range(1,X.shape[0]+1):\n",
    "        X_i = X[:i,:]\n",
    "        y_i = y[:i]\n",
    "        theta = train_linear_reg(X_i, y_i, l)\n",
    "        err_train = X_i @ theta - y_i\n",
    "        error_train.append(err_train.T @ err_train / (2 * (X_i.shape[0])))\n",
    "        err_val = Xval @ theta - yval\n",
    "        error_val.append(err_val.T @ err_val / (2 * Xval.shape[0]))\n",
    "    return error_train, error_val"
   ]
  },
  {
   "cell_type": "code",
   "execution_count": 79,
   "metadata": {},
   "outputs": [
    {
     "name": "stdout",
     "output_type": "stream",
     "text": [
      "# Training Examples\tTrain Error\tCross Validation Error\n",
      "\t1\t\t0.000000\t205.121096\n",
      "\t2\t\t0.000000\t110.300366\n",
      "\t3\t\t3.286595\t45.010231\n",
      "\t4\t\t2.842678\t48.368910\n",
      "\t5\t\t13.154049\t35.865165\n",
      "\t6\t\t19.443963\t33.829962\n",
      "\t7\t\t20.098522\t31.970986\n",
      "\t8\t\t18.172859\t30.862446\n",
      "\t9\t\t22.609405\t31.135998\n",
      "\t10\t\t23.261462\t28.936207\n",
      "\t11\t\t24.317250\t29.551432\n",
      "\t12\t\t22.373906\t29.433818\n"
     ]
    },
    {
     "data": {
      "image/png": "[encoded data removed]",
      "text/plain": [
       "<Figure size 432x288 with 1 Axes>"
      ]
     },
     "metadata": {
      "needs_background": "light"
     },
     "output_type": "display_data"
    }
   ],
   "source": [
    "l = 0\n",
    "error_train, error_val = learning_curve(X_in, y, Xval_in, yval, l)\n",
    "plt.plot(range(1,m+1), error_train, range(1,m+1), error_val)\n",
    "plt.title('Learning curve for linear regression')\n",
    "plt.legend(('Train', 'Cross Validation'))\n",
    "plt.xlabel('Number of training examples')\n",
    "plt.ylabel('Error')\n",
    "plt.axis([0, 13, 0, 150])\n",
    "print('# Training Examples\\tTrain Error\\tCross Validation Error')\n",
    "for i in range(m):\n",
    "    print('\\t%d\\t\\t%f\\t%f' % (i+1, error_train[i], error_val[i]))"
   ]
  },
  {
   "cell_type": "markdown",
   "metadata": {},
   "source": [
    "## Part 6: Feature Mapping for Polynomial Regression"
   ]
  },
  {
   "cell_type": "code",
   "execution_count": 80,
   "metadata": {},
   "outputs": [],
   "source": [
    "def poly_features(X, p):\n",
    "    X_poly = np.ones((X.shape[0],p))\n",
    "    for i in range(p):\n",
    "        X_poly[:,i:] *= X[:, np.newaxis]\n",
    "    return X_poly"
   ]
  },
  {
   "cell_type": "code",
   "execution_count": 81,
   "metadata": {},
   "outputs": [],
   "source": [
    "def feature_normalize(X):\n",
    "    mu = np.mean(X, 0)\n",
    "    X_norm = X - mu\n",
    "    sigma = np.std(X_norm, 0, ddof=1)\n",
    "    return X_norm / sigma, mu, sigma"
   ]
  },
  {
   "cell_type": "code",
   "execution_count": 95,
   "metadata": {},
   "outputs": [],
   "source": [
    "p = 8\n",
    "X_poly = poly_features(X, p)\n",
    "X_poly, mu, sigma = feature_normalize(X_poly)\n",
    "X_poly = np.column_stack([np.ones(X_poly.shape[0]), X_poly])\n",
    "X_poly_test = poly_features(Xtest, p)\n",
    "X_poly_test -= mu\n",
    "X_poly_test /= sigma\n",
    "X_poly_test = np.column_stack([np.ones(X_poly_test.shape[0]), X_poly_test])\n",
    "\n",
    "X_poly_val = poly_features(Xval, p)\n",
    "X_poly_val -= mu\n",
    "X_poly_val /= sigma\n",
    "X_poly_val = np.column_stack([np.ones(X_poly_val.shape[0]), X_poly_val])"
   ]
  },
  {
   "cell_type": "code",
   "execution_count": 96,
   "metadata": {},
   "outputs": [
    {
     "name": "stdout",
     "output_type": "stream",
     "text": [
      "Normalized Training Example 1:\n",
      " [ 1.         -0.36214078 -0.75508669  0.18222588 -0.70618991  0.30661792\n",
      " -0.59087767  0.3445158  -0.50848117]\n"
     ]
    }
   ],
   "source": [
    "print('Normalized Training Example 1:\\n',X_poly[0])"
   ]
  },
  {
   "cell_type": "markdown",
   "metadata": {},
   "source": [
    "##  Part 7: Learning Curve for Polynomial Regression"
   ]
  },
  {
   "cell_type": "code",
   "execution_count": 97,
   "metadata": {},
   "outputs": [],
   "source": [
    "def plot_fit(min_x, max_x, mu, sigma, theta, p):\n",
    "    x = np.arange(min_x - 15, max_x + 25, 0.05)\n",
    "    X_poly = poly_features(x, p)\n",
    "    X_poly -= mu\n",
    "    X_poly /= sigma\n",
    "    X_poly = np.column_stack([np.ones(x.shape[0]), X_poly])\n",
    "    plt.plot(x, X_poly @ theta, '--', linewidth=2)"
   ]
  },
  {
   "cell_type": "code",
   "execution_count": 98,
   "metadata": {},
   "outputs": [],
   "source": [
    "l = 0"
   ]
  },
  {
   "cell_type": "code",
   "execution_count": 99,
   "metadata": {},
   "outputs": [
    {
     "data": {
      "image/png": "[encoded data removed]",
      "text/plain": [
       "<Figure size 432x288 with 1 Axes>"
      ]
     },
     "metadata": {
      "needs_background": "light"
     },
     "output_type": "display_data"
    }
   ],
   "source": [
    "theta = train_linear_reg(X_poly, y, l)\n",
    "plt.plot(X, y, 'rx', markersize=10, linewidth=1.5)\n",
    "plot_fit(np.min(X), np.max(X), mu, sigma, theta, p)\n",
    "plt.xlabel('Change in water level (x)')\n",
    "plt.ylabel('Water flowing out of the dam (y)')\n",
    "plt.title(f'Polynomial Regression Fit (lambda = {l})');"
   ]
  },
  {
   "cell_type": "code",
   "execution_count": 100,
   "metadata": {},
   "outputs": [
    {
     "name": "stdout",
     "output_type": "stream",
     "text": [
      "Polynomial Regression (lambda = 0.000000)\n",
      "\n",
      "# Training Examples\tTrain Error\tCross Validation Error\n",
      "  \t1\t\t0.000000\t160.721900\n",
      "  \t2\t\t0.000000\t160.121476\n",
      "  \t3\t\t0.000000\t61.754820\n",
      "  \t4\t\t0.000000\t61.928933\n",
      "  \t5\t\t0.000000\t6.597854\n",
      "  \t6\t\t0.000000\t10.645155\n",
      "  \t7\t\t0.000000\t27.993178\n",
      "  \t8\t\t0.000000\t22.704887\n",
      "  \t9\t\t0.000000\t24.104144\n",
      "  \t10\t\t0.010818\t97.167269\n",
      "  \t11\t\t0.031219\t51.136173\n",
      "  \t12\t\t0.028891\t54.159838\n"
     ]
    },
    {
     "data": {
      "image/png": "[encoded data removed]",
      "text/plain": [
       "<Figure size 432x288 with 1 Axes>"
      ]
     },
     "metadata": {
      "needs_background": "light"
     },
     "output_type": "display_data"
    }
   ],
   "source": [
    "error_train, error_val = learning_curve(X_poly, y, X_poly_val, yval, l)\n",
    "plt.plot(range(1,m+1), error_train, range(1,m+1), error_val);\n",
    "plt.title(f'Polynomial Regression Learning Curve (lambda = {l})')\n",
    "plt.xlabel('Number of training examples')\n",
    "plt.ylabel('Error')\n",
    "plt.axis([0, 13, 0, 100])\n",
    "plt.legend(('Train', 'Cross Validation'))\n",
    "print('Polynomial Regression (lambda = %f)\\n' % l)\n",
    "print('# Training Examples\\tTrain Error\\tCross Validation Error')\n",
    "for i in range(m):\n",
    "    print('  \\t%d\\t\\t%f\\t%f' % (i+1, error_train[i], error_val[i]))"
   ]
  },
  {
   "cell_type": "markdown",
   "metadata": {},
   "source": [
    "## Part 8: Validation for Selecting Lambda"
   ]
  },
  {
   "cell_type": "code",
   "execution_count": 101,
   "metadata": {},
   "outputs": [],
   "source": [
    "def validation_curve(X, y, Xval, yval):\n",
    "    lambda_vec = [0, 0.001, 0.003, 0.01, 0.03, 0.1, 0.3, 1, 3, 10]\n",
    "    error_train = []\n",
    "    error_val = []\n",
    "    for l in lambda_vec:\n",
    "        theta = train_linear_reg(X, y, l)\n",
    "        err_train = X @ theta - y\n",
    "        error_train.append(err_train.T @ err_train / (2 * X.shape[0]))\n",
    "        err_val = Xval @ theta - yval\n",
    "        error_val.append(err_val.T @ err_val / (2 * Xval.shape[0]))\n",
    "    return lambda_vec, error_train, error_val\n",
    "        "
   ]
  },
  {
   "cell_type": "code",
   "execution_count": 102,
   "metadata": {},
   "outputs": [
    {
     "name": "stdout",
     "output_type": "stream",
     "text": [
      "lambda\t\tTrain Error\tValidation Error\n",
      " 0.000000\t0.028891\t54.159838\n",
      " 0.001000\t0.112692\t9.836200\n",
      " 0.003000\t0.170962\t16.296046\n",
      " 0.010000\t0.221493\t16.948494\n",
      " 0.030000\t0.281849\t12.827735\n",
      " 0.100000\t0.459320\t7.586831\n",
      " 0.300000\t0.921762\t4.636833\n",
      " 1.000000\t2.076188\t4.260635\n",
      " 3.000000\t4.901352\t3.822907\n",
      " 10.000000\t16.092207\t9.945503\n"
     ]
    },
    {
     "data": {
      "image/png": "[encoded data removed]",
      "text/plain": [
       "<Figure size 432x288 with 1 Axes>"
      ]
     },
     "metadata": {
      "needs_background": "light"
     },
     "output_type": "display_data"
    }
   ],
   "source": [
    "lambda_vec, error_train, error_val = validation_curve(X_poly, y, X_poly_val, yval)\n",
    "plt.plot(lambda_vec, error_train, lambda_vec, error_val)\n",
    "plt.legend(('Train', 'Cross Validation'))\n",
    "plt.xlabel('lambda')\n",
    "plt.ylabel('Error')\n",
    "print('lambda\\t\\tTrain Error\\tValidation Error')\n",
    "for i in range(len(lambda_vec)):\n",
    "    print(' %f\\t%f\\t%f' % (lambda_vec[i], error_train[i], error_val[i]))"
   ]
  },
  {
   "cell_type": "code",
   "execution_count": null,
   "metadata": {},
   "outputs": [],
   "source": []
  }
 ],
 "metadata": {
  "kernelspec": {
   "display_name": "Python 3",
   "language": "python",
   "name": "python3"
  },
  "language_info": {
   "codemirror_mode": {
    "name": "ipython",
    "version": 3
   },
   "file_extension": ".py",
   "mimetype": "text/x-python",
   "name": "python",
   "nbconvert_exporter": "python",
   "pygments_lexer": "ipython3",
   "version": "3.7.1"
  }
 },
 "nbformat": 4,
 "nbformat_minor": 2
}
